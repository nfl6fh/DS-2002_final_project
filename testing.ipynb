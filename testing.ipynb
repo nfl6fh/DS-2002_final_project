{
 "cells": [
  {
   "cell_type": "code",
   "execution_count": 2,
   "metadata": {},
   "outputs": [],
   "source": [
    "import pymongo\n",
    "import pandas as pd\n",
    "import datetime"
   ]
  },
  {
   "cell_type": "code",
   "execution_count": 14,
   "metadata": {},
   "outputs": [
    {
     "name": "stdout",
     "output_type": "stream",
     "text": [
      "Document ID:  6394b1f0dc8aff5c1539dd6f\n"
     ]
    }
   ],
   "source": [
    "# Set up MongoDB client\n",
    "client = pymongo.MongoClient('mongodb://localhost:27017/')\n",
    "db_name = \"posts\"\n",
    "\n",
    "db = client[db_name]\n",
    "post = {\"author\": \"Mike\",\n",
    "        \"text\": \"My first blog post!\",\n",
    "        \"tags\": [\"mongodb\", \"python\", \"pymongo\"],\n",
    "        \"date\": datetime.datetime.utcnow()\n",
    "       }\n",
    "\n",
    "posts = db.posts\n",
    "post_id = posts.insert_one(post).inserted_id\n",
    "\n",
    "print(\"Document ID: \", post_id)"
   ]
  },
  {
   "cell_type": "code",
   "execution_count": 15,
   "metadata": {},
   "outputs": [],
   "source": [
    "shows = pd.read_csv('data/Best Shows Netflix.csv', index_col=0)\n",
    "show_yr = pd.read_csv('data/Best Show by Year Netflix.csv', index_col=0)\n",
    "movies = pd.read_csv('data/Best Movies Netflix.csv', index_col=0)\n",
    "movie_yr = pd.read_csv('data/Best Movie by Year Netflix.csv', index_col=0)\n",
    "credits = pd.read_csv('data/raw_credits.csv', index_col=0)\n",
    "titles = pd.read_csv('data/raw_titles.csv', index_col=0)\n",
    "\n",
    "dfs = [shows, show_yr, movies, movie_yr, credits, titles]"
   ]
  },
  {
   "cell_type": "code",
   "execution_count": 24,
   "metadata": {},
   "outputs": [],
   "source": [
    "def get_var_name(variable):\n",
    "    globals_dict = globals()\n",
    "\n",
    "    return [var_name for var_name in globals_dict if globals_dict[var_name] is variable]"
   ]
  },
  {
   "cell_type": "code",
   "execution_count": 26,
   "metadata": {},
   "outputs": [
    {
     "name": "stdout",
     "output_type": "stream",
     "text": [
      "len(df): 246\n",
      "df.columns: Index(['TITLE', 'RELEASE_YEAR', 'SCORE', 'NUMBER_OF_VOTES', 'DURATION',\n",
      "       'NUMBER_OF_SEASONS', 'MAIN_GENRE', 'MAIN_PRODUCTION'],\n",
      "      dtype='object')\n",
      "len(df): 31\n",
      "df.columns: Index(['TITLE', 'RELEASE_YEAR', 'SCORE', 'NUMBER_OF_SEASONS', 'MAIN_GENRE',\n",
      "       'MAIN_PRODUCTION'],\n",
      "      dtype='object')\n",
      "len(df): 387\n",
      "df.columns: Index(['TITLE', 'RELEASE_YEAR', 'SCORE', 'NUMBER_OF_VOTES', 'DURATION',\n",
      "       'MAIN_GENRE', 'MAIN_PRODUCTION'],\n",
      "      dtype='object')\n",
      "len(df): 49\n",
      "df.columns: Index(['TITLE', 'RELEASE_YEAR', 'SCORE', 'MAIN_GENRE', 'MAIN_PRODUCTION'], dtype='object')\n",
      "len(df): 77213\n",
      "df.columns: Index(['person_id', 'id', 'name', 'character', 'role'], dtype='object')\n",
      "len(df): 5806\n",
      "df.columns: Index(['id', 'title', 'type', 'release_year', 'age_certification', 'runtime',\n",
      "       'genres', 'production_countries', 'seasons', 'imdb_id', 'imdb_score',\n",
      "       'imdb_votes'],\n",
      "      dtype='object')\n"
     ]
    }
   ],
   "source": [
    "for df in dfs:\n",
    "    print(f'len(df): {len(df)}')\n",
    "    print(f'df.columns: {df.columns}')"
   ]
  },
  {
   "cell_type": "code",
   "execution_count": 32,
   "metadata": {},
   "outputs": [
    {
     "data": {
      "text/plain": [
       "name\n",
       "Shah Rukh Khan         30\n",
       "Boman Irani            25\n",
       "Kareena Kapoor Khan    25\n",
       "Anupam Kher            25\n",
       "Takahiro Sakurai       22\n",
       "                       ..\n",
       "Irene Tsu               1\n",
       "Irene Wood              1\n",
       "Irene Ziegler           1\n",
       "Irene Zisblatt          1\n",
       "조경이                     1\n",
       "Length: 50723, dtype: int64"
      ]
     },
     "execution_count": 32,
     "metadata": {},
     "output_type": "execute_result"
    }
   ],
   "source": [
    "credits.where(credits.role=='ACTOR').value_counts('name')"
   ]
  },
  {
   "cell_type": "code",
   "execution_count": 43,
   "metadata": {},
   "outputs": [
    {
     "data": {
      "text/plain": [
       "title\n",
       "Chosen          2\n",
       "The Good Cop    2\n",
       "Kakegurui       2\n",
       "Top Boy         2\n",
       "Cowboy Bebop    2\n",
       "Danger Mouse    2\n",
       "The Club        2\n",
       "Sex/Life        1\n",
       "dtype: int64"
      ]
     },
     "execution_count": 43,
     "metadata": {},
     "output_type": "execute_result"
    }
   ],
   "source": [
    "titles.where(titles.type == 'SHOW').value_counts('title').head(8)"
   ]
  },
  {
   "cell_type": "code",
   "execution_count": null,
   "metadata": {},
   "outputs": [],
   "source": []
  }
 ],
 "metadata": {
  "kernelspec": {
   "display_name": "Python 3.9.6 64-bit",
   "language": "python",
   "name": "python3"
  },
  "language_info": {
   "codemirror_mode": {
    "name": "ipython",
    "version": 3
   },
   "file_extension": ".py",
   "mimetype": "text/x-python",
   "name": "python",
   "nbconvert_exporter": "python",
   "pygments_lexer": "ipython3",
   "version": "3.9.6"
  },
  "orig_nbformat": 4,
  "vscode": {
   "interpreter": {
    "hash": "31f2aee4e71d21fbe5cf8b01ff0e069b9275f58929596ceb00d14d90e3e16cd6"
   }
  }
 },
 "nbformat": 4,
 "nbformat_minor": 2
}
